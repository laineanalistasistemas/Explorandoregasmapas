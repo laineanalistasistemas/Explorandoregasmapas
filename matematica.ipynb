{
  "nbformat": 4,
  "nbformat_minor": 0,
  "metadata": {
    "colab": {
      "provenance": [],
      "authorship_tag": "ABX9TyOKArZcAjPygQ+zHxx1ywdI",
      "include_colab_link": true
    },
    "kernelspec": {
      "name": "python3",
      "display_name": "Python 3"
    },
    "language_info": {
      "name": "python"
    }
  },
  "cells": [
    {
      "cell_type": "markdown",
      "metadata": {
        "id": "view-in-github",
        "colab_type": "text"
      },
      "source": [
        "<a href=\"https://colab.research.google.com/github/laineanalistasistemas/Explorandoregasmapas/blob/main/matematica.ipynb\" target=\"_parent\"><img src=\"https://colab.research.google.com/assets/colab-badge.svg\" alt=\"Open In Colab\"/></a>"
      ]
    },
    {
      "cell_type": "code",
      "execution_count": null,
      "metadata": {
        "colab": {
          "base_uri": "https://localhost:8080/"
        },
        "id": "MUFYfTH9Udew",
        "outputId": "1c2b60cc-726b-4c31-8e67-11045495ea1d"
      },
      "outputs": [
        {
          "output_type": "stream",
          "name": "stdout",
          "text": [
            "Digite seu nome: re\n",
            "\n",
            "Olá, re! Prepare-se para o desafio matemático!\n",
            "\n",
            "Questão: 17 / 17 = ?\n",
            "Sua resposta: 1\n",
            "Correto!\n",
            "\n",
            "Questão: 8 / 2 = ?\n",
            "Sua resposta: 4\n",
            "Correto!\n",
            "\n",
            "Questão: 8 * 7 = ?\n",
            "Sua resposta: 32\n",
            "Errado! A resposta correta é 56\n",
            "\n",
            "Questão: 3 * 8 = ?\n"
          ]
        }
      ],
      "source": [
        "\n",
        "\n",
        "import random\n",
        "\n",
        "def gerar_questao(operacao):\n",
        "  \"\"\"Gera uma questão matemática aleatória.\"\"\"\n",
        "  num1 = random.randint(1, 20)\n",
        "  num2 = random.randint(1, 20)\n",
        "\n",
        "  if operacao == '+,-,*,/':\n",
        "    resposta = num1 + num2\n",
        "    questao = f\"{num1} + {num2} = ?\"\n",
        "  elif operacao == '-':\n",
        "    resposta = num1 - num2\n",
        "    questao = f\"{num1} - {num2} = ?\"\n",
        "  elif operacao == '*':\n",
        "    resposta = num1 * num2\n",
        "    questao = f\"{num1} * {num2} = ?\"\n",
        "  elif operacao == '/':\n",
        "    # Garante divisão por inteiro para adolescentes\n",
        "    if num2 == 0:\n",
        "        num2 = 1  # Evita divisão por zero\n",
        "    resposta = num1 // num2 #divisão inteira\n",
        "    questao = f\"{num1} / {num2} = ?\"\n",
        "  else:\n",
        "      return None, None\n",
        "\n",
        "  return questao, resposta\n",
        "\n",
        "\n",
        "def jogo_matematico():\n",
        "    \"\"\"Inicia o jogo matemático.\"\"\"\n",
        "\n",
        "    nome_jogador = input(\"Digite seu nome: \")\n",
        "    print(f\"\\nOlá, {nome_jogador}! Prepare-se para o desafio matemático!\")\n",
        "\n",
        "    pontuacao = 0\n",
        "    num_questoes = 5  # Número de questões\n",
        "\n",
        "    for _ in range(num_questoes):\n",
        "      operacoes = ['+', '-', '*', '/']\n",
        "      operacao = random.choice(operacoes)\n",
        "      questao, resposta_correta = gerar_questao(operacao)\n",
        "\n",
        "      if questao is None:\n",
        "          continue #pula para a proxima iteração se houver um erro na geração da questão\n",
        "\n",
        "      print(f\"\\nQuestão: {questao}\")\n",
        "      try:\n",
        "          resposta_jogador = int(input(\"Sua resposta: \"))\n",
        "\n",
        "          if resposta_jogador == resposta_correta:\n",
        "              print(\"Correto!\")\n",
        "              pontuacao += 1\n",
        "          else:\n",
        "              print(f\"Errado! A resposta correta é {resposta_correta}\")\n",
        "      except ValueError:\n",
        "          print(\"Entrada inválida. Digite um número inteiro.\")\n",
        "\n",
        "    print(f\"\\n{nome_jogador}, sua pontuação final é: {pontuacao}/{num_questoes}\")\n",
        "\n",
        "\n",
        "if __name__ == \"__main__\":\n",
        "    jogo_matematico()\n"
      ]
    }
  ]
}